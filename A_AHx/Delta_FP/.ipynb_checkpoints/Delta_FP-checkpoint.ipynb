{
 "cells": [
  {
   "cell_type": "code",
   "execution_count": 1,
   "metadata": {},
   "outputs": [],
   "source": [
    "import numpy as np"
   ]
  },
  {
   "cell_type": "code",
   "execution_count": 15,
   "metadata": {},
   "outputs": [
    {
     "name": "stdout",
     "output_type": "stream",
     "text": [
      "Working on adsorbates: CH\n",
      "Len of FP: 901\n",
      "Working on adsorbates: CH2\n",
      "Len of FP: 613\n",
      "Working on adsorbates: CH3\n",
      "Len of FP: 489\n",
      "Working on adsorbates: OH\n",
      "Len of FP: 594\n",
      "Working on adsorbates: NH\n",
      "Len of FP: 918\n",
      "Working on adsorbates: SH\n",
      "Len of FP: 682\n"
     ]
    }
   ],
   "source": [
    "adsorbates = ['CH', 'CH2', 'CH3', 'OH', 'NH', 'SH']\n",
    "\n",
    "for ads in adsorbates:\n",
    "    print('Working on adsorbates: {}'.format(ads))\n",
    "    FP_data_corrected_y_sc = []\n",
    "    fp_data = np.load('{}_data.npy'.format(ads))[()]\n",
    "    sc_data = np.load('scaling_data_{}_{}.npy'.format(ads[0], ads))[()]\n",
    "    for i, j, k in zip(sc_data['x'], sc_data['y'], sc_data['metadata']):\n",
    "        #print(i, j)\n",
    "        for fp in fp_data:\n",
    "            cond1 = fp[0][0] == k[1]\n",
    "            cond2 = fp[0][1] == k[2]\n",
    "            cond3 = fp[0][2] == k[3]\n",
    "            cond4 = fp[0][3] == k[4]\n",
    "            cond5 = abs(fp[-2] - j) < 1e-2\n",
    "            if cond1 and cond2 and cond3 and cond4 and cond4 and cond5:\n",
    "                temp = fp[:-1].tolist()\n",
    "                temp.append(i)\n",
    "                FP_data_corrected_y_sc += [temp]\n",
    "    \n",
    "    print('Len of FP: {}'.format(len(FP_data_corrected_y_sc)))\n",
    "    np.save('{}_data_delta.npy'.format(ads), FP_data_corrected_y_sc)\n",
    "        \n",
    "    "
   ]
  },
  {
   "cell_type": "code",
   "execution_count": null,
   "metadata": {},
   "outputs": [],
   "source": []
  }
 ],
 "metadata": {
  "kernelspec": {
   "display_name": "Python 3",
   "language": "python",
   "name": "python3"
  },
  "language_info": {
   "codemirror_mode": {
    "name": "ipython",
    "version": 3
   },
   "file_extension": ".py",
   "mimetype": "text/x-python",
   "name": "python",
   "nbconvert_exporter": "python",
   "pygments_lexer": "ipython3",
   "version": "3.6.1"
  }
 },
 "nbformat": 4,
 "nbformat_minor": 2
}
