{
 "cells": [
  {
   "cell_type": "code",
   "execution_count": 1,
   "metadata": {},
   "outputs": [],
   "source": [
    "import numpy as np\n",
    "from sklearn.model_selection import train_test_split\n",
    "import sys\n",
    "import os\n",
    "from catGP import preprocess_data, OMGP\n",
    "from catSC import Linear_Scaling\n",
    "import warnings\n",
    "warnings.filterwarnings(\"ignore\", category=FutureWarning)"
   ]
  },
  {
   "cell_type": "code",
   "execution_count": 2,
   "metadata": {},
   "outputs": [],
   "source": [
    "'''data_format = [metadata, slab_d0, slab_d1, bimetal_fp, \n",
    "                  ads_d0_unscaled, ads_d1_unscaled, ads_d2_unscaled, SS_unscaled,\n",
    "                  ads_d0_scaled, ads_d1_scaled, ads_d2_scaled, SS_scaled,\n",
    "                  energy, energy_A]'''\n",
    "\n",
    "def get_data(A):\n",
    "    data = np.load('../Delta_FP/{}_data_delta.npy'.format(A))[()]\n",
    "    y = np.array([i[-2] for i in data if i[-1] is not None])\n",
    "    X = np.vstack([np.hstack([i[1].reshape(-1), \n",
    "                              i[2].reshape(-1),\n",
    "                              i[3].reshape(-1), \n",
    "                              i[4].reshape(-1),\n",
    "                              i[5].reshape(-1),\n",
    "                              i[8].reshape(-1),\n",
    "                              i[9].reshape(-1)]) for i in data if i[-1] is not None])\n",
    "    y_sc = np.array([i[-1] for i in data if i[-1] is not None])\n",
    "    \n",
    "    return X, y, y_sc"
   ]
  },
  {
   "cell_type": "code",
   "execution_count": 3,
   "metadata": {},
   "outputs": [
    {
     "name": "stdout",
     "output_type": "stream",
     "text": [
      "Working on adsorbates: CH\n",
      "    Working on random state: 10\n"
     ]
    },
    {
     "name": "stderr",
     "output_type": "stream",
     "text": [
      "/Applications/anaconda/lib/python3.6/site-packages/sklearn/utils/deprecation.py:58: DeprecationWarning: Class Imputer is deprecated; Imputer was deprecated in version 0.20 and will be removed in 0.22. Import impute.SimpleImputer from sklearn instead.\n",
      "  warnings.warn(msg, category=DeprecationWarning)\n"
     ]
    },
    {
     "name": "stdout",
     "output_type": "stream",
     "text": [
      "    Working on random state: 20\n",
      "    Working on random state: 42\n",
      "    Working on random state: 80\n",
      "Working on adsorbates: CH2\n",
      "    Working on random state: 10\n"
     ]
    },
    {
     "name": "stderr",
     "output_type": "stream",
     "text": [
      "/Applications/anaconda/lib/python3.6/site-packages/sklearn/utils/deprecation.py:58: DeprecationWarning: Class Imputer is deprecated; Imputer was deprecated in version 0.20 and will be removed in 0.22. Import impute.SimpleImputer from sklearn instead.\n",
      "  warnings.warn(msg, category=DeprecationWarning)\n"
     ]
    },
    {
     "name": "stdout",
     "output_type": "stream",
     "text": [
      "    Working on random state: 20\n",
      "    Working on random state: 42\n",
      "    Working on random state: 80\n",
      "Working on adsorbates: CH3\n",
      "    Working on random state: 10\n"
     ]
    },
    {
     "name": "stderr",
     "output_type": "stream",
     "text": [
      "/Applications/anaconda/lib/python3.6/site-packages/sklearn/utils/deprecation.py:58: DeprecationWarning: Class Imputer is deprecated; Imputer was deprecated in version 0.20 and will be removed in 0.22. Import impute.SimpleImputer from sklearn instead.\n",
      "  warnings.warn(msg, category=DeprecationWarning)\n"
     ]
    },
    {
     "name": "stdout",
     "output_type": "stream",
     "text": [
      "    Working on random state: 20\n",
      "    Working on random state: 42\n",
      "    Working on random state: 80\n",
      "Working on adsorbates: OH\n",
      "    Working on random state: 10\n"
     ]
    },
    {
     "name": "stderr",
     "output_type": "stream",
     "text": [
      "/Applications/anaconda/lib/python3.6/site-packages/sklearn/utils/deprecation.py:58: DeprecationWarning: Class Imputer is deprecated; Imputer was deprecated in version 0.20 and will be removed in 0.22. Import impute.SimpleImputer from sklearn instead.\n",
      "  warnings.warn(msg, category=DeprecationWarning)\n"
     ]
    },
    {
     "name": "stdout",
     "output_type": "stream",
     "text": [
      "    Working on random state: 20\n",
      "    Working on random state: 42\n",
      "    Working on random state: 80\n",
      "Working on adsorbates: NH\n",
      "    Working on random state: 10\n"
     ]
    },
    {
     "name": "stderr",
     "output_type": "stream",
     "text": [
      "/Applications/anaconda/lib/python3.6/site-packages/sklearn/utils/deprecation.py:58: DeprecationWarning: Class Imputer is deprecated; Imputer was deprecated in version 0.20 and will be removed in 0.22. Import impute.SimpleImputer from sklearn instead.\n",
      "  warnings.warn(msg, category=DeprecationWarning)\n",
      "/Applications/anaconda/lib/python3.6/site-packages/matplotlib/pyplot.py:524: RuntimeWarning: More than 20 figures have been opened. Figures created through the pyplot interface (`matplotlib.pyplot.figure`) are retained until explicitly closed and may consume too much memory. (To control this warning, see the rcParam `figure.max_open_warning`).\n",
      "  max_open_warning, RuntimeWarning)\n",
      "/Applications/anaconda/lib/python3.6/site-packages/sklearn/gaussian_process/gpr.py:480: ConvergenceWarning: fmin_l_bfgs_b terminated abnormally with the  state: {'grad': array([0.26178741, 0.56425188, 0.26178741, 0.62382365]), 'task': b'ABNORMAL_TERMINATION_IN_LNSRCH', 'funcalls': 76, 'nit': 8, 'warnflag': 2}\n",
      "  ConvergenceWarning)\n"
     ]
    },
    {
     "name": "stdout",
     "output_type": "stream",
     "text": [
      "    Working on random state: 20\n",
      "    Working on random state: 42\n",
      "    Working on random state: 80\n"
     ]
    },
    {
     "name": "stderr",
     "output_type": "stream",
     "text": [
      "/Applications/anaconda/lib/python3.6/site-packages/matplotlib/pyplot.py:524: RuntimeWarning: More than 20 figures have been opened. Figures created through the pyplot interface (`matplotlib.pyplot.figure`) are retained until explicitly closed and may consume too much memory. (To control this warning, see the rcParam `figure.max_open_warning`).\n",
      "  max_open_warning, RuntimeWarning)\n"
     ]
    },
    {
     "name": "stdout",
     "output_type": "stream",
     "text": [
      "Working on adsorbates: SH\n",
      "    Working on random state: 10\n"
     ]
    },
    {
     "name": "stderr",
     "output_type": "stream",
     "text": [
      "/Applications/anaconda/lib/python3.6/site-packages/sklearn/utils/deprecation.py:58: DeprecationWarning: Class Imputer is deprecated; Imputer was deprecated in version 0.20 and will be removed in 0.22. Import impute.SimpleImputer from sklearn instead.\n",
      "  warnings.warn(msg, category=DeprecationWarning)\n",
      "/Applications/anaconda/lib/python3.6/site-packages/matplotlib/pyplot.py:524: RuntimeWarning: More than 20 figures have been opened. Figures created through the pyplot interface (`matplotlib.pyplot.figure`) are retained until explicitly closed and may consume too much memory. (To control this warning, see the rcParam `figure.max_open_warning`).\n",
      "  max_open_warning, RuntimeWarning)\n"
     ]
    },
    {
     "name": "stdout",
     "output_type": "stream",
     "text": [
      "    Working on random state: 20\n",
      "    Working on random state: 42\n",
      "    Working on random state: 80\n"
     ]
    },
    {
     "name": "stderr",
     "output_type": "stream",
     "text": [
      "/Applications/anaconda/lib/python3.6/site-packages/matplotlib/pyplot.py:524: RuntimeWarning: More than 20 figures have been opened. Figures created through the pyplot interface (`matplotlib.pyplot.figure`) are retained until explicitly closed and may consume too much memory. (To control this warning, see the rcParam `figure.max_open_warning`).\n",
      "  max_open_warning, RuntimeWarning)\n"
     ]
    }
   ],
   "source": [
    "adsorbates = ['CH', 'CH2', 'CH3', 'OH', 'NH', 'SH']\n",
    "\n",
    "for ads in adsorbates:\n",
    "    print('Working on adsorbates: {}'.format(ads))\n",
    "    X, y, y_sc = get_data(ads)\n",
    "    data = preprocess_data(X, y)\n",
    "    data.clean_data()\n",
    "    X, y = data.get_data()\n",
    "    assert len(y) == len(y_sc)\n",
    "    \n",
    "    sc = Linear_Scaling(y_sc, y, ads[0], ads, 'eV')\n",
    "    sc.get_coeff()\n",
    "    a = sc.plot_scaling()\n",
    "\n",
    "    scaling_dict = sc.__dict__\n",
    "\n",
    "    kernel_recipe = {'ConstantKernel' : [{'RBF' : [1.0,\n",
    "                                                   {'length_scale' : 1.0}]},\n",
    "                                      {'constant_value' : 1.0,\n",
    "                                       'constant_value_bounds' : (3e-7, 3e7)}],\n",
    "                     'WhiteKernel' : {'noise_level' : 0.1,\n",
    "                                      'noise_level_bounds' : (1e-5, 1e5)}}\n",
    "\n",
    "    r_state = [10, 20, 42, 80]\n",
    "    #r_state = [42]\n",
    "    r_data = {rs : {} for rs in r_state}\n",
    "    for rs in r_state:\n",
    "        print('    Working on random state: {}'.format(rs))\n",
    "        X_train, X_test, y_train, y_test, y_sc_train, y_sc_test = train_test_split(X, y, y_sc, \n",
    "                                                                                   train_size=0.80, \n",
    "                                                                                   random_state=rs)\n",
    "\n",
    "        MLGP = OMGP(X_train=X_train,\n",
    "                    X_test=X_test,\n",
    "                    y_train=y_train,\n",
    "                    y_test=y_test,\n",
    "                    kernel_recipe=kernel_recipe,\n",
    "                    scaling=True,\n",
    "                    scaling_params={'alpha' : sc.slope,\n",
    "                                    'gamma' : sc.intercept},\n",
    "                    scaling_y_train=y_sc_train,\n",
    "                    scaling_y_test=y_sc_test)\n",
    "\n",
    "        MLGP.run_GP()\n",
    "        r_data[rs] = MLGP.__dict__\n",
    "\n",
    "\n",
    "    if not os.path.exists('run_{}'.format(ads)):\n",
    "        os.mkdir('run_{}'.format(ads))\n",
    "        \n",
    "    a.savefig('run_{}/scaling_plot.png'.format(ads))\n",
    "    np.save('run_{}/scaling_data.npy'.format(ads), scaling_dict)\n",
    "\n",
    "    np.save('run_{0}/{0}_rsdata.npy'.format(ads), r_data)\n",
    "    #LC = MLGP.plot_learning_curve()\n",
    "    #LC.savefig('run_{0}/{0}_learning_curve.png'.format(ads))\n",
    "    PP = MLGP.parity_plot(data='train')\n",
    "    PP.savefig('run_{0}/{0}_parity_plot_train.png'.format(ads))\n",
    "    PP = MLGP.parity_plot(data='test')\n",
    "    PP.savefig('run_{0}/{0}_parity_plot_test.png'.format(ads))\n",
    "    PP = MLGP.parity_plot(data='train', err_bar=True)\n",
    "    PP.savefig('run_{0}/{0}_parity_plot_train_err_bar.png'.format(ads))\n",
    "    PP = MLGP.parity_plot(data='test', err_bar=True)\n",
    "    PP.savefig('run_{0}/{0}_parity_plot_test_err_bar.png'.format(ads))\n",
    "    #PP = MLGP.parity_plot_fancy(data='train')\n",
    "    #PP.savefig('run_{0}/{0}_parity_plot_train.png'.format(ads))\n",
    "    #PP = MLGP.parity_plot_fancy(data='test')\n",
    "    #PP.savefig('run_{0}/{0}_parity_plot_test.png'.format(ads))"
   ]
  },
  {
   "cell_type": "code",
   "execution_count": 4,
   "metadata": {},
   "outputs": [
    {
     "name": "stdout",
     "output_type": "stream",
     "text": [
      "\n",
      "Data for adsorbate: CH\n",
      "MAE_train: [0.07702328 0.07315896 0.07320689 0.07728236]\n",
      "MAE_train mean: 0.07516787307039073\n",
      "MAE_train std: 0.001987130585298205\n",
      "MAE_test: [0.13346903 0.12912852 0.1329131  0.1323896 ]\n",
      "MAE_test mean: 0.1319750636272218\n",
      "MAE_test std: 0.0016871919176643841\n",
      "\n",
      "\n",
      "Data for adsorbate: CH2\n",
      "MAE_train: [0.12440014 0.12872057 0.12913712 0.11992504]\n",
      "MAE_train mean: 0.1255457180131942\n",
      "MAE_train std: 0.003737719697014643\n",
      "MAE_test: [0.18836695 0.203455   0.23062715 0.22236705]\n",
      "MAE_test mean: 0.2112040354250598\n",
      "MAE_test std: 0.016457901229868205\n",
      "\n",
      "\n",
      "Data for adsorbate: CH3\n",
      "MAE_train: [0.12118255 0.12411492 0.12435277 0.1216301 ]\n",
      "MAE_train mean: 0.12282008453291307\n",
      "MAE_train std: 0.0014250725197625493\n",
      "MAE_test: [0.17386516 0.15516223 0.1549704  0.14907004]\n",
      "MAE_test mean: 0.1582669588216394\n",
      "MAE_test std: 0.00933265628195246\n",
      "\n",
      "\n",
      "Data for adsorbate: OH\n",
      "MAE_train: [0.10544093 0.10488722 0.09974031 0.10495725]\n",
      "MAE_train mean: 0.10375642960571077\n",
      "MAE_train std: 0.002328486530771459\n",
      "MAE_test: [0.14088463 0.12074893 0.1441617  0.13083728]\n",
      "MAE_test mean: 0.13415813666940613\n",
      "MAE_test std: 0.009167224435672427\n",
      "\n",
      "\n",
      "Data for adsorbate: NH\n",
      "MAE_train: [0.07179945 0.0690435  0.06377921 0.06433889]\n",
      "MAE_train mean: 0.06724026016439277\n",
      "MAE_train std: 0.0033329683472889684\n",
      "MAE_test: [0.13849563 0.15396971 0.12984583 0.14294034]\n",
      "MAE_test mean: 0.14131287819545077\n",
      "MAE_test std: 0.00869301522053621\n",
      "\n",
      "\n",
      "Data for adsorbate: SH\n",
      "MAE_train: [0.14957304 0.16519797 0.15432103 0.15211907]\n",
      "MAE_train mean: 0.15530277864678693\n",
      "MAE_train std: 0.005954924467230109\n",
      "MAE_test: [0.19763746 0.17071297 0.18801595 0.20341681]\n",
      "MAE_test mean: 0.18994579769458236\n",
      "MAE_test std: 0.01239209110640892\n",
      "\n"
     ]
    }
   ],
   "source": [
    "for ads in adsorbates:\n",
    "    data = np.load('run_{0}/{0}_rsdata.npy'.format(ads))[()]\n",
    "    MAE_train = np.array([data[k]['MAE_train'] for k in data])\n",
    "    MAE_test = np.array([data[k]['MAE_test'] for k in data])\n",
    "    with open('run_{}/out.txt'.format(ads), 'w') as f:\n",
    "        print('\\nData for adsorbate: {}'.format(ads))\n",
    "        f.write('MAE_train: {}\\n'.format(MAE_train))\n",
    "        f.write('MAE_train mean: {}\\n'.format(MAE_train.mean()))\n",
    "        f.write('MAE_train std: {}\\n'.format(MAE_train.std()))\n",
    "        f.write('MAE_test: {}\\n'.format(MAE_test))\n",
    "        f.write('MAE_test mean: {}\\n'.format(MAE_test.mean()))\n",
    "        f.write('MAE_test std: {}\\n'.format(MAE_test.std()))\n",
    "        print('MAE_train: {}'.format(MAE_train))\n",
    "        print('MAE_train mean: {}'.format(MAE_train.mean()))\n",
    "        print('MAE_train std: {}'.format(MAE_train.std()))\n",
    "        print('MAE_test: {}'.format(MAE_test))\n",
    "        print('MAE_test mean: {}'.format(MAE_test.mean()))\n",
    "        print('MAE_test std: {}\\n'.format(MAE_test.std()))"
   ]
  },
  {
   "cell_type": "code",
   "execution_count": 5,
   "metadata": {},
   "outputs": [
    {
     "data": {
      "text/plain": [
       "'data_format = [metadata, slab_d0, slab_d1, bimetal_fp, \\n                  ads_d0_unscaled, ads_d1_unscaled, ads_d2_unscaled, SS_unscaled,\\n                  ads_d0_scaled, ads_d1_scaled, ads_d2_scaled, SS_scaled,\\n                  energy, energy_A]'"
      ]
     },
     "execution_count": 5,
     "metadata": {},
     "output_type": "execute_result"
    }
   ],
   "source": [
    "'''data_format = [metadata, slab_d0, slab_d1, bimetal_fp, \n",
    "                  ads_d0_unscaled, ads_d1_unscaled, ads_d2_unscaled, SS_unscaled,\n",
    "                  ads_d0_scaled, ads_d1_scaled, ads_d2_scaled, SS_scaled,\n",
    "                  energy, energy_A]'''"
   ]
  }
 ],
 "metadata": {
  "kernelspec": {
   "display_name": "Python 3",
   "language": "python",
   "name": "python3"
  },
  "language_info": {
   "codemirror_mode": {
    "name": "ipython",
    "version": 3
   },
   "file_extension": ".py",
   "mimetype": "text/x-python",
   "name": "python",
   "nbconvert_exporter": "python",
   "pygments_lexer": "ipython3",
   "version": "3.6.1"
  }
 },
 "nbformat": 4,
 "nbformat_minor": 2
}
