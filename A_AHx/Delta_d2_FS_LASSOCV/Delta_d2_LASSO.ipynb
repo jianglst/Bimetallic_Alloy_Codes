{
 "cells": [
  {
   "cell_type": "code",
   "execution_count": 1,
   "metadata": {},
   "outputs": [],
   "source": [
    "import numpy as np\n",
    "from sklearn.model_selection import train_test_split\n",
    "import sys\n",
    "import os\n",
    "from catGP import preprocess_data, OMGP\n",
    "from catSC import Linear_Scaling\n",
    "import warnings\n",
    "warnings.filterwarnings(\"ignore\", category=FutureWarning)"
   ]
  },
  {
   "cell_type": "code",
   "execution_count": 2,
   "metadata": {},
   "outputs": [],
   "source": [
    "'''data_format = [metadata, slab_d0, slab_d1, bimetal_fp, \n",
    "                  ads_d0_unscaled, ads_d1_unscaled, ads_d2_unscaled, SS_unscaled,\n",
    "                  ads_d0_scaled, ads_d1_scaled, ads_d2_scaled, SS_scaled,\n",
    "                  energy, energy_A]'''\n",
    "\n",
    "def get_data(A):\n",
    "    data = np.load('../Delta_FP/{}_data_delta.npy'.format(A))[()]\n",
    "    y = np.array([i[-2] for i in data if i[-1] is not None])\n",
    "    X = np.vstack([np.hstack([i[1].reshape(-1), \n",
    "                              i[2].reshape(-1),\n",
    "                              i[3].reshape(-1), \n",
    "                              i[4].reshape(-1),\n",
    "                              i[5].reshape(-1),\n",
    "                              i[6].reshape(-1),\n",
    "                              i[7].reshape(-1),\n",
    "                              i[8].reshape(-1),\n",
    "                              i[9].reshape(-1),\n",
    "                              i[10].reshape(-1),\n",
    "                              i[11].reshape(-1)]) for i in data if i[-1] is not None])\n",
    "    y_sc = np.array([i[-1] for i in data if i[-1] is not None])\n",
    "    \n",
    "    return X, y, y_sc"
   ]
  },
  {
   "cell_type": "code",
   "execution_count": 3,
   "metadata": {},
   "outputs": [
    {
     "name": "stdout",
     "output_type": "stream",
     "text": [
      "109\n"
     ]
    }
   ],
   "source": [
    "d1 = ['SD0', 'SD1', 'AD0U', 'AD1U', 'AD2U', 'SSU', \n",
    "      'AD0S', 'AD1S', 'AD2S', 'SSS']\n",
    "p1 = ['atomic_number', 'atomic_radius', 'dband_center_slab',\n",
    "      'dband_width_slab', 'dband_skewness_slab', 'dband_kurtosis_slab',\n",
    "      'dipole_polarizability', 'electron_affinity', 'heat_of_formation',\n",
    "      'specific_heat']\n",
    "p2 = ['atomic_number', 'atomic_radius', 'dband_center_slab',\n",
    "      'dband_width_slab', 'dipole_polarizability', 'electron_affinity',\n",
    "      'heat_of_formation', 'specific_heat', 'en_allen']\n",
    "\n",
    "fp_list = [i + '_' +j for j in p1 for i in d1]\n",
    "fp_list += ['BF_' + i for i in p2]\n",
    "print(len(fp_list))\n",
    "\n"
   ]
  },
  {
   "cell_type": "code",
   "execution_count": 4,
   "metadata": {},
   "outputs": [
    {
     "name": "stdout",
     "output_type": "stream",
     "text": [
      "Working on adsorbates: CH\n",
      "(901, 31)\n",
      "    Working on random state: 10\n"
     ]
    },
    {
     "name": "stderr",
     "output_type": "stream",
     "text": [
      "/Applications/anaconda/lib/python3.6/site-packages/sklearn/utils/deprecation.py:58: DeprecationWarning: Class Imputer is deprecated; Imputer was deprecated in version 0.20 and will be removed in 0.22. Import impute.SimpleImputer from sklearn instead.\n",
      "  warnings.warn(msg, category=DeprecationWarning)\n"
     ]
    },
    {
     "name": "stdout",
     "output_type": "stream",
     "text": [
      "    Working on random state: 20\n",
      "    Working on random state: 42\n",
      "Working on adsorbates: CH2\n",
      "(613, 8)\n",
      "    Working on random state: 10\n"
     ]
    },
    {
     "name": "stderr",
     "output_type": "stream",
     "text": [
      "/Applications/anaconda/lib/python3.6/site-packages/sklearn/utils/deprecation.py:58: DeprecationWarning: Class Imputer is deprecated; Imputer was deprecated in version 0.20 and will be removed in 0.22. Import impute.SimpleImputer from sklearn instead.\n",
      "  warnings.warn(msg, category=DeprecationWarning)\n"
     ]
    },
    {
     "name": "stdout",
     "output_type": "stream",
     "text": [
      "    Working on random state: 20\n",
      "    Working on random state: 42\n",
      "Working on adsorbates: CH3\n",
      "(489, 37)\n",
      "    Working on random state: 10\n"
     ]
    },
    {
     "name": "stderr",
     "output_type": "stream",
     "text": [
      "/Applications/anaconda/lib/python3.6/site-packages/sklearn/utils/deprecation.py:58: DeprecationWarning: Class Imputer is deprecated; Imputer was deprecated in version 0.20 and will be removed in 0.22. Import impute.SimpleImputer from sklearn instead.\n",
      "  warnings.warn(msg, category=DeprecationWarning)\n"
     ]
    },
    {
     "name": "stdout",
     "output_type": "stream",
     "text": [
      "    Working on random state: 20\n",
      "    Working on random state: 42\n",
      "Working on adsorbates: OH\n",
      "(594, 18)\n",
      "    Working on random state: 10\n"
     ]
    },
    {
     "name": "stderr",
     "output_type": "stream",
     "text": [
      "/Applications/anaconda/lib/python3.6/site-packages/sklearn/utils/deprecation.py:58: DeprecationWarning: Class Imputer is deprecated; Imputer was deprecated in version 0.20 and will be removed in 0.22. Import impute.SimpleImputer from sklearn instead.\n",
      "  warnings.warn(msg, category=DeprecationWarning)\n"
     ]
    },
    {
     "name": "stdout",
     "output_type": "stream",
     "text": [
      "    Working on random state: 20\n",
      "    Working on random state: 42\n",
      "Working on adsorbates: NH\n",
      "(918, 28)\n",
      "    Working on random state: 10\n"
     ]
    },
    {
     "name": "stderr",
     "output_type": "stream",
     "text": [
      "/Applications/anaconda/lib/python3.6/site-packages/sklearn/utils/deprecation.py:58: DeprecationWarning: Class Imputer is deprecated; Imputer was deprecated in version 0.20 and will be removed in 0.22. Import impute.SimpleImputer from sklearn instead.\n",
      "  warnings.warn(msg, category=DeprecationWarning)\n",
      "/Applications/anaconda/lib/python3.6/site-packages/matplotlib/pyplot.py:524: RuntimeWarning: More than 20 figures have been opened. Figures created through the pyplot interface (`matplotlib.pyplot.figure`) are retained until explicitly closed and may consume too much memory. (To control this warning, see the rcParam `figure.max_open_warning`).\n",
      "  max_open_warning, RuntimeWarning)\n"
     ]
    },
    {
     "name": "stdout",
     "output_type": "stream",
     "text": [
      "    Working on random state: 20\n",
      "    Working on random state: 42\n"
     ]
    },
    {
     "name": "stderr",
     "output_type": "stream",
     "text": [
      "/Applications/anaconda/lib/python3.6/site-packages/matplotlib/pyplot.py:524: RuntimeWarning: More than 20 figures have been opened. Figures created through the pyplot interface (`matplotlib.pyplot.figure`) are retained until explicitly closed and may consume too much memory. (To control this warning, see the rcParam `figure.max_open_warning`).\n",
      "  max_open_warning, RuntimeWarning)\n"
     ]
    },
    {
     "name": "stdout",
     "output_type": "stream",
     "text": [
      "Working on adsorbates: SH\n",
      "(682, 8)\n",
      "    Working on random state: 10\n"
     ]
    },
    {
     "name": "stderr",
     "output_type": "stream",
     "text": [
      "/Applications/anaconda/lib/python3.6/site-packages/sklearn/utils/deprecation.py:58: DeprecationWarning: Class Imputer is deprecated; Imputer was deprecated in version 0.20 and will be removed in 0.22. Import impute.SimpleImputer from sklearn instead.\n",
      "  warnings.warn(msg, category=DeprecationWarning)\n",
      "/Applications/anaconda/lib/python3.6/site-packages/matplotlib/pyplot.py:524: RuntimeWarning: More than 20 figures have been opened. Figures created through the pyplot interface (`matplotlib.pyplot.figure`) are retained until explicitly closed and may consume too much memory. (To control this warning, see the rcParam `figure.max_open_warning`).\n",
      "  max_open_warning, RuntimeWarning)\n"
     ]
    },
    {
     "name": "stdout",
     "output_type": "stream",
     "text": [
      "    Working on random state: 20\n",
      "    Working on random state: 42\n"
     ]
    },
    {
     "name": "stderr",
     "output_type": "stream",
     "text": [
      "/Applications/anaconda/lib/python3.6/site-packages/matplotlib/pyplot.py:524: RuntimeWarning: More than 20 figures have been opened. Figures created through the pyplot interface (`matplotlib.pyplot.figure`) are retained until explicitly closed and may consume too much memory. (To control this warning, see the rcParam `figure.max_open_warning`).\n",
      "  max_open_warning, RuntimeWarning)\n"
     ]
    }
   ],
   "source": [
    "adsorbates = ['CH', 'CH2', 'CH3', 'OH', 'NH', 'SH']\n",
    "\n",
    "for ads in adsorbates:\n",
    "    mask_fp = np.load('../GP_d2_FS_LASSOCV/{}_fp.npy'.format(ads))[()]\n",
    "    mask = [i for i, j in enumerate(fp_list) if j in mask_fp]\n",
    "    print('Working on adsorbates: {}'.format(ads))\n",
    "    X, y, y_sc = get_data(ads)\n",
    "    X = X[:, mask]\n",
    "    print(X.shape)\n",
    "    data = preprocess_data(X, y)\n",
    "    data.clean_data()\n",
    "    X, y = data.get_data()\n",
    "    assert len(y) == len(y_sc)\n",
    "    \n",
    "    sc = Linear_Scaling(y_sc, y, ads[0], ads, 'eV')\n",
    "    sc.get_coeff()\n",
    "    a = sc.plot_scaling()\n",
    "\n",
    "    scaling_dict = sc.__dict__\n",
    "\n",
    "    kernel_recipe = {'ConstantKernel' : [{'RBF' : [1.0,\n",
    "                                                   {'length_scale' : 1.0}]},\n",
    "                                      {'constant_value' : 1.0,\n",
    "                                       'constant_value_bounds' : (3e-7, 3e7)}],\n",
    "                     'WhiteKernel' : {'noise_level' : 0.1,\n",
    "                                      'noise_level_bounds' : (1e-5, 1e5)}}\n",
    "\n",
    "    r_state = [10, 20, 42]\n",
    "    #r_state = [42]\n",
    "    r_data = {rs : {} for rs in r_state}\n",
    "    for rs in r_state:\n",
    "        print('    Working on random state: {}'.format(rs))\n",
    "        X_train, X_test, y_train, y_test, y_sc_train, y_sc_test = train_test_split(X, y, y_sc, \n",
    "                                                                                   train_size=0.80, \n",
    "                                                                                   random_state=rs)\n",
    "\n",
    "        MLGP = OMGP(X_train=X_train,\n",
    "                    X_test=X_test,\n",
    "                    y_train=y_train,\n",
    "                    y_test=y_test,\n",
    "                    kernel_recipe=kernel_recipe,\n",
    "                    scaling=True,\n",
    "                    scaling_params={'alpha' : sc.slope,\n",
    "                                    'gamma' : sc.intercept},\n",
    "                    scaling_y_train=y_sc_train,\n",
    "                    scaling_y_test=y_sc_test)\n",
    "\n",
    "        MLGP.run_GP()\n",
    "        r_data[rs] = MLGP.__dict__\n",
    "\n",
    "\n",
    "    if not os.path.exists('run_{}'.format(ads)):\n",
    "        os.mkdir('run_{}'.format(ads))\n",
    "        \n",
    "    a.savefig('run_{}/scaling_plot.png'.format(ads))\n",
    "    np.save('run_{}/scaling_data.npy'.format(ads), scaling_dict)\n",
    "\n",
    "    np.save('run_{0}/{0}_rsdata.npy'.format(ads), r_data)\n",
    "    #LC = MLGP.plot_learning_curve()\n",
    "    #LC.savefig('run_{0}/{0}_learning_curve.png'.format(ads))\n",
    "    PP = MLGP.parity_plot(data='train')\n",
    "    PP.savefig('run_{0}/{0}_parity_plot_train.png'.format(ads))\n",
    "    PP = MLGP.parity_plot(data='test')\n",
    "    PP.savefig('run_{0}/{0}_parity_plot_test.png'.format(ads))\n",
    "    PP = MLGP.parity_plot(data='train', err_bar=True)\n",
    "    PP.savefig('run_{0}/{0}_parity_plot_train_err_bar.png'.format(ads))\n",
    "    PP = MLGP.parity_plot(data='test', err_bar=True)\n",
    "    PP.savefig('run_{0}/{0}_parity_plot_test_err_bar.png'.format(ads))\n",
    "    #PP = MLGP.parity_plot_fancy(data='train')\n",
    "    #PP.savefig('run_{0}/{0}_parity_plot_train.png'.format(ads))\n",
    "    #PP = MLGP.parity_plot_fancy(data='test')\n",
    "    #PP.savefig('run_{0}/{0}_parity_plot_test.png'.format(ads))"
   ]
  },
  {
   "cell_type": "code",
   "execution_count": 5,
   "metadata": {},
   "outputs": [
    {
     "name": "stdout",
     "output_type": "stream",
     "text": [
      "\n",
      "Data for adsorbate: CH\n",
      "MAE_train: [0.03845378 0.02331749 0.02396364]\n",
      "MAE_train mean: 0.028578302048917772\n",
      "MAE_train std: 0.006988000755588839\n",
      "MAE_test: [0.11364615 0.1082941  0.11349598]\n",
      "MAE_test mean: 0.11181207842776032\n",
      "MAE_test std: 0.002488341119064285\n",
      "\n",
      "\n",
      "Data for adsorbate: CH2\n",
      "MAE_train: [0.16017625 0.16365636 0.09251548]\n",
      "MAE_train mean: 0.13878269618970843\n",
      "MAE_train std: 0.03274669418174944\n",
      "MAE_test: [0.19146444 0.17252968 0.24415545]\n",
      "MAE_test mean: 0.2027165254547543\n",
      "MAE_test std: 0.030304232766507875\n",
      "\n",
      "\n",
      "Data for adsorbate: CH3\n",
      "MAE_train: [0.09815495 0.10682018 0.10055821]\n",
      "MAE_train mean: 0.10184444625432632\n",
      "MAE_train std: 0.003652610538604174\n",
      "MAE_test: [0.1696629  0.14380469 0.1631748 ]\n",
      "MAE_test mean: 0.15888079506662814\n",
      "MAE_test std: 0.01098455486887664\n",
      "\n",
      "\n",
      "Data for adsorbate: OH\n",
      "MAE_train: [0.11808628 0.10776778 0.10773225]\n",
      "MAE_train mean: 0.11119543703651419\n",
      "MAE_train std: 0.004872583800027916\n",
      "MAE_test: [0.15062094 0.12593715 0.14566477]\n",
      "MAE_test mean: 0.14074095259104102\n",
      "MAE_test std: 0.010661624910246328\n",
      "\n",
      "\n",
      "Data for adsorbate: NH\n",
      "MAE_train: [0.04484514 0.0455627  0.03910337]\n",
      "MAE_train mean: 0.04317040121450836\n",
      "MAE_train std: 0.0028907092075589522\n",
      "MAE_test: [0.12095821 0.13194227 0.10464309]\n",
      "MAE_test mean: 0.11918118868347438\n",
      "MAE_test std: 0.011215457477666274\n",
      "\n",
      "\n",
      "Data for adsorbate: SH\n",
      "MAE_train: [0.1610238  0.14530716 0.16580669]\n",
      "MAE_train mean: 0.1573792154979867\n",
      "MAE_train std: 0.008756706358279047\n",
      "MAE_test: [0.20619736 0.18771931 0.1996902 ]\n",
      "MAE_test mean: 0.1978689554698202\n",
      "MAE_test std: 0.007652767117610768\n",
      "\n"
     ]
    }
   ],
   "source": [
    "for ads in adsorbates:\n",
    "    data = np.load('run_{0}/{0}_rsdata.npy'.format(ads))[()]\n",
    "    MAE_train = np.array([data[k]['MAE_train'] for k in data])\n",
    "    MAE_test = np.array([data[k]['MAE_test'] for k in data])\n",
    "    with open('run_{}/out.txt'.format(ads), 'w') as f:\n",
    "        print('\\nData for adsorbate: {}'.format(ads))\n",
    "        f.write('MAE_train: {}\\n'.format(MAE_train))\n",
    "        f.write('MAE_train mean: {}\\n'.format(MAE_train.mean()))\n",
    "        f.write('MAE_train std: {}\\n'.format(MAE_train.std()))\n",
    "        f.write('MAE_test: {}\\n'.format(MAE_test))\n",
    "        f.write('MAE_test mean: {}\\n'.format(MAE_test.mean()))\n",
    "        f.write('MAE_test std: {}\\n'.format(MAE_test.std()))\n",
    "        print('MAE_train: {}'.format(MAE_train))\n",
    "        print('MAE_train mean: {}'.format(MAE_train.mean()))\n",
    "        print('MAE_train std: {}'.format(MAE_train.std()))\n",
    "        print('MAE_test: {}'.format(MAE_test))\n",
    "        print('MAE_test mean: {}'.format(MAE_test.mean()))\n",
    "        print('MAE_test std: {}\\n'.format(MAE_test.std()))"
   ]
  },
  {
   "cell_type": "code",
   "execution_count": 6,
   "metadata": {},
   "outputs": [
    {
     "data": {
      "text/plain": [
       "'data_format = [metadata, slab_d0, slab_d1, bimetal_fp, \\n                  ads_d0_unscaled, ads_d1_unscaled, ads_d2_unscaled, SS_unscaled,\\n                  ads_d0_scaled, ads_d1_scaled, ads_d2_scaled, SS_scaled,\\n                  energy, energy_A]'"
      ]
     },
     "execution_count": 6,
     "metadata": {},
     "output_type": "execute_result"
    }
   ],
   "source": [
    "'''data_format = [metadata, slab_d0, slab_d1, bimetal_fp, \n",
    "                  ads_d0_unscaled, ads_d1_unscaled, ads_d2_unscaled, SS_unscaled,\n",
    "                  ads_d0_scaled, ads_d1_scaled, ads_d2_scaled, SS_scaled,\n",
    "                  energy, energy_A]'''"
   ]
  }
 ],
 "metadata": {
  "kernelspec": {
   "display_name": "Python 3",
   "language": "python",
   "name": "python3"
  },
  "language_info": {
   "codemirror_mode": {
    "name": "ipython",
    "version": 3
   },
   "file_extension": ".py",
   "mimetype": "text/x-python",
   "name": "python",
   "nbconvert_exporter": "python",
   "pygments_lexer": "ipython3",
   "version": "3.6.1"
  }
 },
 "nbformat": 4,
 "nbformat_minor": 2
}
