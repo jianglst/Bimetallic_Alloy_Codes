{
 "cells": [
  {
   "cell_type": "code",
   "execution_count": 1,
   "metadata": {},
   "outputs": [],
   "source": [
    "import numpy as np\n",
    "from sklearn.model_selection import train_test_split\n",
    "import sys\n",
    "import os\n",
    "from catGP import preprocess_data, OMGP"
   ]
  },
  {
   "cell_type": "code",
   "execution_count": 2,
   "metadata": {},
   "outputs": [],
   "source": [
    "'''data_format = [metadata, slab_d0, slab_d1, bimetal_fp, \n",
    "                  ads_d0_unscaled, ads_d1_unscaled, ads_d2_unscaled, SS_unscaled,\n",
    "                  ads_d0_scaled, ads_d1_scaled, ads_d2_scaled, SS_scaled,\n",
    "                  energy, energy_A]'''\n",
    "\n",
    "def get_data(A):\n",
    "    data = np.load('../Fingerprint_Generation/{}_data.npy'.format(A))[()]\n",
    "    y = np.array([i[-2] for i in data])\n",
    "    X = np.vstack([np.hstack([i[1].reshape(-1), \n",
    "                              i[2].reshape(-1),\n",
    "                              i[3].reshape(-1), \n",
    "                              i[4].reshape(-1), \n",
    "                              i[5].reshape(-1),\n",
    "                              i[8].reshape(-1),\n",
    "                              i[9].reshape(-1)]) for i in data])\n",
    "    \n",
    "    return X, y"
   ]
  },
  {
   "cell_type": "code",
   "execution_count": 3,
   "metadata": {},
   "outputs": [
    {
     "name": "stdout",
     "output_type": "stream",
     "text": [
      "Working on adsorbates: CH\n",
      "    Working on random state: 10\n"
     ]
    },
    {
     "name": "stderr",
     "output_type": "stream",
     "text": [
      "/Applications/anaconda/lib/python3.6/site-packages/sklearn/utils/deprecation.py:58: DeprecationWarning: Class Imputer is deprecated; Imputer was deprecated in version 0.20 and will be removed in 0.22. Import impute.SimpleImputer from sklearn instead.\n",
      "  warnings.warn(msg, category=DeprecationWarning)\n",
      "/Applications/anaconda/lib/python3.6/site-packages/sklearn/model_selection/_split.py:2179: FutureWarning: From version 0.21, test_size will always complement train_size unless both are specified.\n",
      "  FutureWarning)\n"
     ]
    },
    {
     "name": "stdout",
     "output_type": "stream",
     "text": [
      "    Working on random state: 20\n"
     ]
    },
    {
     "name": "stderr",
     "output_type": "stream",
     "text": [
      "/Applications/anaconda/lib/python3.6/site-packages/sklearn/model_selection/_split.py:2179: FutureWarning: From version 0.21, test_size will always complement train_size unless both are specified.\n",
      "  FutureWarning)\n"
     ]
    },
    {
     "name": "stdout",
     "output_type": "stream",
     "text": [
      "    Working on random state: 42\n"
     ]
    },
    {
     "name": "stderr",
     "output_type": "stream",
     "text": [
      "/Applications/anaconda/lib/python3.6/site-packages/sklearn/model_selection/_split.py:2179: FutureWarning: From version 0.21, test_size will always complement train_size unless both are specified.\n",
      "  FutureWarning)\n"
     ]
    },
    {
     "name": "stdout",
     "output_type": "stream",
     "text": [
      "    Working on random state: 80\n"
     ]
    },
    {
     "name": "stderr",
     "output_type": "stream",
     "text": [
      "/Applications/anaconda/lib/python3.6/site-packages/sklearn/model_selection/_split.py:2179: FutureWarning: From version 0.21, test_size will always complement train_size unless both are specified.\n",
      "  FutureWarning)\n"
     ]
    },
    {
     "name": "stdout",
     "output_type": "stream",
     "text": [
      "    Working on random state: 150\n"
     ]
    },
    {
     "name": "stderr",
     "output_type": "stream",
     "text": [
      "/Applications/anaconda/lib/python3.6/site-packages/sklearn/model_selection/_split.py:2179: FutureWarning: From version 0.21, test_size will always complement train_size unless both are specified.\n",
      "  FutureWarning)\n"
     ]
    },
    {
     "name": "stdout",
     "output_type": "stream",
     "text": [
      "Working on adsorbates: CH2\n",
      "    Working on random state: 10\n"
     ]
    },
    {
     "name": "stderr",
     "output_type": "stream",
     "text": [
      "/Applications/anaconda/lib/python3.6/site-packages/sklearn/utils/deprecation.py:58: DeprecationWarning: Class Imputer is deprecated; Imputer was deprecated in version 0.20 and will be removed in 0.22. Import impute.SimpleImputer from sklearn instead.\n",
      "  warnings.warn(msg, category=DeprecationWarning)\n",
      "/Applications/anaconda/lib/python3.6/site-packages/sklearn/model_selection/_split.py:2179: FutureWarning: From version 0.21, test_size will always complement train_size unless both are specified.\n",
      "  FutureWarning)\n"
     ]
    },
    {
     "name": "stdout",
     "output_type": "stream",
     "text": [
      "    Working on random state: 20\n"
     ]
    },
    {
     "name": "stderr",
     "output_type": "stream",
     "text": [
      "/Applications/anaconda/lib/python3.6/site-packages/sklearn/model_selection/_split.py:2179: FutureWarning: From version 0.21, test_size will always complement train_size unless both are specified.\n",
      "  FutureWarning)\n"
     ]
    },
    {
     "name": "stdout",
     "output_type": "stream",
     "text": [
      "    Working on random state: 42\n"
     ]
    },
    {
     "name": "stderr",
     "output_type": "stream",
     "text": [
      "/Applications/anaconda/lib/python3.6/site-packages/sklearn/model_selection/_split.py:2179: FutureWarning: From version 0.21, test_size will always complement train_size unless both are specified.\n",
      "  FutureWarning)\n"
     ]
    },
    {
     "name": "stdout",
     "output_type": "stream",
     "text": [
      "    Working on random state: 80\n"
     ]
    },
    {
     "name": "stderr",
     "output_type": "stream",
     "text": [
      "/Applications/anaconda/lib/python3.6/site-packages/sklearn/model_selection/_split.py:2179: FutureWarning: From version 0.21, test_size will always complement train_size unless both are specified.\n",
      "  FutureWarning)\n"
     ]
    },
    {
     "name": "stdout",
     "output_type": "stream",
     "text": [
      "    Working on random state: 150\n"
     ]
    },
    {
     "name": "stderr",
     "output_type": "stream",
     "text": [
      "/Applications/anaconda/lib/python3.6/site-packages/sklearn/model_selection/_split.py:2179: FutureWarning: From version 0.21, test_size will always complement train_size unless both are specified.\n",
      "  FutureWarning)\n"
     ]
    },
    {
     "name": "stdout",
     "output_type": "stream",
     "text": [
      "Working on adsorbates: CH3\n",
      "    Working on random state: 10\n"
     ]
    },
    {
     "name": "stderr",
     "output_type": "stream",
     "text": [
      "/Applications/anaconda/lib/python3.6/site-packages/sklearn/utils/deprecation.py:58: DeprecationWarning: Class Imputer is deprecated; Imputer was deprecated in version 0.20 and will be removed in 0.22. Import impute.SimpleImputer from sklearn instead.\n",
      "  warnings.warn(msg, category=DeprecationWarning)\n",
      "/Applications/anaconda/lib/python3.6/site-packages/sklearn/model_selection/_split.py:2179: FutureWarning: From version 0.21, test_size will always complement train_size unless both are specified.\n",
      "  FutureWarning)\n"
     ]
    },
    {
     "name": "stdout",
     "output_type": "stream",
     "text": [
      "    Working on random state: 20\n"
     ]
    },
    {
     "name": "stderr",
     "output_type": "stream",
     "text": [
      "/Applications/anaconda/lib/python3.6/site-packages/sklearn/model_selection/_split.py:2179: FutureWarning: From version 0.21, test_size will always complement train_size unless both are specified.\n",
      "  FutureWarning)\n"
     ]
    },
    {
     "name": "stdout",
     "output_type": "stream",
     "text": [
      "    Working on random state: 42\n"
     ]
    },
    {
     "name": "stderr",
     "output_type": "stream",
     "text": [
      "/Applications/anaconda/lib/python3.6/site-packages/sklearn/model_selection/_split.py:2179: FutureWarning: From version 0.21, test_size will always complement train_size unless both are specified.\n",
      "  FutureWarning)\n"
     ]
    },
    {
     "name": "stdout",
     "output_type": "stream",
     "text": [
      "    Working on random state: 80\n"
     ]
    },
    {
     "name": "stderr",
     "output_type": "stream",
     "text": [
      "/Applications/anaconda/lib/python3.6/site-packages/sklearn/model_selection/_split.py:2179: FutureWarning: From version 0.21, test_size will always complement train_size unless both are specified.\n",
      "  FutureWarning)\n"
     ]
    },
    {
     "name": "stdout",
     "output_type": "stream",
     "text": [
      "    Working on random state: 150\n"
     ]
    },
    {
     "name": "stderr",
     "output_type": "stream",
     "text": [
      "/Applications/anaconda/lib/python3.6/site-packages/sklearn/model_selection/_split.py:2179: FutureWarning: From version 0.21, test_size will always complement train_size unless both are specified.\n",
      "  FutureWarning)\n"
     ]
    },
    {
     "name": "stdout",
     "output_type": "stream",
     "text": [
      "Working on adsorbates: OH\n",
      "    Working on random state: 10\n"
     ]
    },
    {
     "name": "stderr",
     "output_type": "stream",
     "text": [
      "/Applications/anaconda/lib/python3.6/site-packages/sklearn/utils/deprecation.py:58: DeprecationWarning: Class Imputer is deprecated; Imputer was deprecated in version 0.20 and will be removed in 0.22. Import impute.SimpleImputer from sklearn instead.\n",
      "  warnings.warn(msg, category=DeprecationWarning)\n",
      "/Applications/anaconda/lib/python3.6/site-packages/sklearn/model_selection/_split.py:2179: FutureWarning: From version 0.21, test_size will always complement train_size unless both are specified.\n",
      "  FutureWarning)\n"
     ]
    },
    {
     "name": "stdout",
     "output_type": "stream",
     "text": [
      "    Working on random state: 20\n"
     ]
    },
    {
     "name": "stderr",
     "output_type": "stream",
     "text": [
      "/Applications/anaconda/lib/python3.6/site-packages/sklearn/model_selection/_split.py:2179: FutureWarning: From version 0.21, test_size will always complement train_size unless both are specified.\n",
      "  FutureWarning)\n"
     ]
    },
    {
     "name": "stdout",
     "output_type": "stream",
     "text": [
      "    Working on random state: 42\n"
     ]
    },
    {
     "name": "stderr",
     "output_type": "stream",
     "text": [
      "/Applications/anaconda/lib/python3.6/site-packages/sklearn/model_selection/_split.py:2179: FutureWarning: From version 0.21, test_size will always complement train_size unless both are specified.\n",
      "  FutureWarning)\n"
     ]
    },
    {
     "name": "stdout",
     "output_type": "stream",
     "text": [
      "    Working on random state: 80\n"
     ]
    },
    {
     "name": "stderr",
     "output_type": "stream",
     "text": [
      "/Applications/anaconda/lib/python3.6/site-packages/sklearn/model_selection/_split.py:2179: FutureWarning: From version 0.21, test_size will always complement train_size unless both are specified.\n",
      "  FutureWarning)\n"
     ]
    },
    {
     "name": "stdout",
     "output_type": "stream",
     "text": [
      "    Working on random state: 150\n"
     ]
    },
    {
     "name": "stderr",
     "output_type": "stream",
     "text": [
      "/Applications/anaconda/lib/python3.6/site-packages/sklearn/model_selection/_split.py:2179: FutureWarning: From version 0.21, test_size will always complement train_size unless both are specified.\n",
      "  FutureWarning)\n"
     ]
    },
    {
     "name": "stdout",
     "output_type": "stream",
     "text": [
      "Working on adsorbates: NH\n",
      "    Working on random state: 10\n"
     ]
    },
    {
     "name": "stderr",
     "output_type": "stream",
     "text": [
      "/Applications/anaconda/lib/python3.6/site-packages/sklearn/utils/deprecation.py:58: DeprecationWarning: Class Imputer is deprecated; Imputer was deprecated in version 0.20 and will be removed in 0.22. Import impute.SimpleImputer from sklearn instead.\n",
      "  warnings.warn(msg, category=DeprecationWarning)\n",
      "/Applications/anaconda/lib/python3.6/site-packages/sklearn/model_selection/_split.py:2179: FutureWarning: From version 0.21, test_size will always complement train_size unless both are specified.\n",
      "  FutureWarning)\n"
     ]
    },
    {
     "name": "stdout",
     "output_type": "stream",
     "text": [
      "    Working on random state: 20\n"
     ]
    },
    {
     "name": "stderr",
     "output_type": "stream",
     "text": [
      "/Applications/anaconda/lib/python3.6/site-packages/sklearn/model_selection/_split.py:2179: FutureWarning: From version 0.21, test_size will always complement train_size unless both are specified.\n",
      "  FutureWarning)\n"
     ]
    },
    {
     "name": "stdout",
     "output_type": "stream",
     "text": [
      "    Working on random state: 42\n"
     ]
    },
    {
     "name": "stderr",
     "output_type": "stream",
     "text": [
      "/Applications/anaconda/lib/python3.6/site-packages/sklearn/model_selection/_split.py:2179: FutureWarning: From version 0.21, test_size will always complement train_size unless both are specified.\n",
      "  FutureWarning)\n"
     ]
    },
    {
     "name": "stdout",
     "output_type": "stream",
     "text": [
      "    Working on random state: 80\n"
     ]
    },
    {
     "name": "stderr",
     "output_type": "stream",
     "text": [
      "/Applications/anaconda/lib/python3.6/site-packages/sklearn/model_selection/_split.py:2179: FutureWarning: From version 0.21, test_size will always complement train_size unless both are specified.\n",
      "  FutureWarning)\n"
     ]
    },
    {
     "name": "stdout",
     "output_type": "stream",
     "text": [
      "    Working on random state: 150\n"
     ]
    },
    {
     "name": "stderr",
     "output_type": "stream",
     "text": [
      "/Applications/anaconda/lib/python3.6/site-packages/sklearn/model_selection/_split.py:2179: FutureWarning: From version 0.21, test_size will always complement train_size unless both are specified.\n",
      "  FutureWarning)\n"
     ]
    },
    {
     "name": "stdout",
     "output_type": "stream",
     "text": [
      "Working on adsorbates: SH\n",
      "    Working on random state: 10\n"
     ]
    },
    {
     "name": "stderr",
     "output_type": "stream",
     "text": [
      "/Applications/anaconda/lib/python3.6/site-packages/sklearn/utils/deprecation.py:58: DeprecationWarning: Class Imputer is deprecated; Imputer was deprecated in version 0.20 and will be removed in 0.22. Import impute.SimpleImputer from sklearn instead.\n",
      "  warnings.warn(msg, category=DeprecationWarning)\n",
      "/Applications/anaconda/lib/python3.6/site-packages/sklearn/model_selection/_split.py:2179: FutureWarning: From version 0.21, test_size will always complement train_size unless both are specified.\n",
      "  FutureWarning)\n"
     ]
    },
    {
     "name": "stdout",
     "output_type": "stream",
     "text": [
      "    Working on random state: 20\n"
     ]
    },
    {
     "name": "stderr",
     "output_type": "stream",
     "text": [
      "/Applications/anaconda/lib/python3.6/site-packages/sklearn/model_selection/_split.py:2179: FutureWarning: From version 0.21, test_size will always complement train_size unless both are specified.\n",
      "  FutureWarning)\n"
     ]
    },
    {
     "name": "stdout",
     "output_type": "stream",
     "text": [
      "    Working on random state: 42\n"
     ]
    },
    {
     "name": "stderr",
     "output_type": "stream",
     "text": [
      "/Applications/anaconda/lib/python3.6/site-packages/sklearn/model_selection/_split.py:2179: FutureWarning: From version 0.21, test_size will always complement train_size unless both are specified.\n",
      "  FutureWarning)\n"
     ]
    },
    {
     "name": "stdout",
     "output_type": "stream",
     "text": [
      "    Working on random state: 80\n"
     ]
    },
    {
     "name": "stderr",
     "output_type": "stream",
     "text": [
      "/Applications/anaconda/lib/python3.6/site-packages/sklearn/model_selection/_split.py:2179: FutureWarning: From version 0.21, test_size will always complement train_size unless both are specified.\n",
      "  FutureWarning)\n"
     ]
    },
    {
     "name": "stdout",
     "output_type": "stream",
     "text": [
      "    Working on random state: 150\n"
     ]
    },
    {
     "name": "stderr",
     "output_type": "stream",
     "text": [
      "/Applications/anaconda/lib/python3.6/site-packages/sklearn/model_selection/_split.py:2179: FutureWarning: From version 0.21, test_size will always complement train_size unless both are specified.\n",
      "  FutureWarning)\n",
      "/Applications/anaconda/lib/python3.6/site-packages/matplotlib/pyplot.py:524: RuntimeWarning: More than 20 figures have been opened. Figures created through the pyplot interface (`matplotlib.pyplot.figure`) are retained until explicitly closed and may consume too much memory. (To control this warning, see the rcParam `figure.max_open_warning`).\n",
      "  max_open_warning, RuntimeWarning)\n"
     ]
    }
   ],
   "source": [
    "adsorbates = ['CH', 'CH2', 'CH3', 'OH', 'NH', 'SH']\n",
    "\n",
    "for ads in adsorbates:\n",
    "    print('Working on adsorbates: {}'.format(ads))\n",
    "    X, y = get_data(ads)\n",
    "    data = preprocess_data(X, y)\n",
    "    data.clean_data()\n",
    "    X, y = data.get_data()\n",
    "\n",
    "    kernel_recipe = {'ConstantKernel' : [{'RBF' : [1.0,\n",
    "                                                   {'length_scale' : 1.0}]},\n",
    "                                      {'constant_value' : 1.0,\n",
    "                                       'constant_value_bounds' : (3e-7, 3e7)}],\n",
    "                     'WhiteKernel' : {'noise_level' : 0.1,\n",
    "                                      'noise_level_bounds' : (1e-5, 1e5)}}\n",
    "\n",
    "    r_state = [10, 20, 42, 80, 150]\n",
    "    #r_state = [42]\n",
    "    r_data = {rs : {} for rs in r_state}\n",
    "    for rs in r_state:\n",
    "        print('    Working on random state: {}'.format(rs))\n",
    "        X_train, X_test, y_train, y_test = train_test_split(X, y, \n",
    "                                                            train_size=0.80, \n",
    "                                                            random_state=rs)\n",
    "\n",
    "        MLGP = OMGP(X_train=X_train,\n",
    "                    X_test=X_test,\n",
    "                    y_train=y_train,\n",
    "                    y_test=y_test,\n",
    "                    kernel_recipe=kernel_recipe)\n",
    "\n",
    "        MLGP.run_GP()\n",
    "        r_data[rs] = MLGP.__dict__\n",
    "\n",
    "\n",
    "    if not os.path.exists('run_{}'.format(ads)):\n",
    "        os.mkdir('run_{}'.format(ads))\n",
    "\n",
    "    np.save('run_{0}/{0}_rsdata.npy'.format(ads), r_data)\n",
    "    #LC = MLGP.plot_learning_curve()\n",
    "    #LC.savefig('run_{0}/{0}_learning_curve.png'.format(ads))\n",
    "    PP = MLGP.parity_plot(data='train')\n",
    "    PP.savefig('run_{0}/{0}_parity_plot_train.png'.format(ads))\n",
    "    PP = MLGP.parity_plot(data='test')\n",
    "    PP.savefig('run_{0}/{0}_parity_plot_test.png'.format(ads))\n",
    "    PP = MLGP.parity_plot(data='train', err_bar=True)\n",
    "    PP.savefig('run_{0}/{0}_parity_plot_train_err_bar.png'.format(ads))\n",
    "    PP = MLGP.parity_plot(data='test', err_bar=True)\n",
    "    PP.savefig('run_{0}/{0}_parity_plot_test_err_bar.png'.format(ads))\n",
    "    #PP = MLGP.parity_plot_fancy(data='train')\n",
    "    #PP.savefig('run_{0}/{0}_parity_plot_train.png'.format(ads))\n",
    "    #PP = MLGP.parity_plot_fancy(data='test')\n",
    "    #PP.savefig('run_{0}/{0}_parity_plot_test.png'.format(ads))"
   ]
  },
  {
   "cell_type": "code",
   "execution_count": 5,
   "metadata": {},
   "outputs": [
    {
     "name": "stdout",
     "output_type": "stream",
     "text": [
      "\n",
      "Data for adsorbate: CH\n",
      "MAE_train: [0.10864331 0.107902   0.1074866  0.1070962  0.10783236]\n",
      "MAE_train mean: 0.10779209396729368\n",
      "MAE_train std: 0.0005130037879114858\n",
      "MAE_test: [0.16247054 0.16167939 0.19064707 0.17096351 0.1744014 ]\n",
      "MAE_test mean: 0.17203238216659028\n",
      "MAE_test std: 0.010505947256376914\n",
      "\n",
      "\n",
      "Data for adsorbate: CH2\n",
      "MAE_train: [0.19771627 0.18995098 0.17480915 0.18766469 0.19302868]\n",
      "MAE_train mean: 0.18863395629700164\n",
      "MAE_train std: 0.007688971167694338\n",
      "MAE_test: [0.23053462 0.26085842 0.31955041 0.25209855 0.26501835]\n",
      "MAE_test mean: 0.2656120714803759\n",
      "MAE_test std: 0.029479949178984746\n",
      "\n",
      "\n",
      "Data for adsorbate: CH3\n",
      "MAE_train: [0.1415007  0.13374032 0.13794433 0.13930128 0.13650914]\n",
      "MAE_train mean: 0.13779915524927955\n",
      "MAE_train std: 0.0026121688626909926\n",
      "MAE_test: [0.17737815 0.17108896 0.17720514 0.16434506 0.17175552]\n",
      "MAE_test mean: 0.17235456434868685\n",
      "MAE_test std: 0.004793273022219174\n",
      "\n",
      "\n",
      "Data for adsorbate: OH\n",
      "MAE_train: [0.12471843 0.12646369 0.12767201 0.12483463 0.1285619 ]\n",
      "MAE_train mean: 0.12645012997710875\n",
      "MAE_train std: 0.001520617790349716\n",
      "MAE_test: [0.16520155 0.1682978  0.17281803 0.18205184 0.17441267]\n",
      "MAE_test mean: 0.1725563763973698\n",
      "MAE_test std: 0.005760330476915156\n",
      "\n",
      "\n",
      "Data for adsorbate: NH\n",
      "MAE_train: [0.13056805 0.14159134 0.14238727 0.13286494 0.13866336]\n",
      "MAE_train mean: 0.13721499213874838\n",
      "MAE_train std: 0.004713965775361982\n",
      "MAE_test: [0.18741214 0.19862574 0.18524313 0.19287127 0.20331706]\n",
      "MAE_test mean: 0.19349386816699768\n",
      "MAE_test std: 0.006756935465671913\n",
      "\n",
      "\n",
      "Data for adsorbate: SH\n",
      "MAE_train: [0.20267234 0.19179022 0.19504397 0.20026174 0.19945057]\n",
      "MAE_train mean: 0.1978437679815963\n",
      "MAE_train std: 0.0039045596378359105\n",
      "MAE_test: [0.21851856 0.23210303 0.23550037 0.23441213 0.22779991]\n",
      "MAE_test mean: 0.229666798415976\n",
      "MAE_test std: 0.006168507090807866\n",
      "\n"
     ]
    }
   ],
   "source": [
    "for ads in adsorbates:\n",
    "    data = np.load('run_{0}/{0}_rsdata.npy'.format(ads))[()]\n",
    "    MAE_train = np.array([data[k]['MAE_train'] for k in data])\n",
    "    MAE_test = np.array([data[k]['MAE_test'] for k in data])\n",
    "    with open('run_{}/out.txt'.format(ads), 'w') as f:\n",
    "        print('\\nData for adsorbate: {}'.format(ads))\n",
    "        f.write('MAE_train: {}\\n'.format(MAE_train))\n",
    "        f.write('MAE_train mean: {}\\n'.format(MAE_train.mean()))\n",
    "        f.write('MAE_train std: {}\\n'.format(MAE_train.std()))\n",
    "        f.write('MAE_test: {}\\n'.format(MAE_test))\n",
    "        f.write('MAE_test mean: {}\\n'.format(MAE_test.mean()))\n",
    "        f.write('MAE_test std: {}\\n'.format(MAE_test.std()))\n",
    "        print('MAE_train: {}'.format(MAE_train))\n",
    "        print('MAE_train mean: {}'.format(MAE_train.mean()))\n",
    "        print('MAE_train std: {}'.format(MAE_train.std()))\n",
    "        print('MAE_test: {}'.format(MAE_test))\n",
    "        print('MAE_test mean: {}'.format(MAE_test.mean()))\n",
    "        print('MAE_test std: {}\\n'.format(MAE_test.std()))"
   ]
  },
  {
   "cell_type": "code",
   "execution_count": null,
   "metadata": {},
   "outputs": [],
   "source": []
  }
 ],
 "metadata": {
  "kernelspec": {
   "display_name": "Python 3",
   "language": "python",
   "name": "python3"
  },
  "language_info": {
   "codemirror_mode": {
    "name": "ipython",
    "version": 3
   },
   "file_extension": ".py",
   "mimetype": "text/x-python",
   "name": "python",
   "nbconvert_exporter": "python",
   "pygments_lexer": "ipython3",
   "version": "3.6.1"
  }
 },
 "nbformat": 4,
 "nbformat_minor": 2
}
