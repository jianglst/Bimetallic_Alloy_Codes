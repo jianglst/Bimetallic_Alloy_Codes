{
 "cells": [
  {
   "cell_type": "code",
   "execution_count": 1,
   "metadata": {},
   "outputs": [],
   "source": [
    "import numpy as np\n",
    "from sklearn.model_selection import train_test_split\n",
    "import sys\n",
    "import os\n",
    "from catGP import preprocess_data, OMGP\n",
    "import warnings\n",
    "warnings.filterwarnings(\"ignore\", category=FutureWarning)"
   ]
  },
  {
   "cell_type": "code",
   "execution_count": 2,
   "metadata": {},
   "outputs": [],
   "source": [
    "'''data_format = [metadata, slab_d0, slab_d1, bimetal_fp, \n",
    "                  ads_d0_unscaled, ads_d1_unscaled, ads_d2_unscaled, SS_unscaled,\n",
    "                  ads_d0_scaled, ads_d1_scaled, ads_d2_scaled, SS_scaled,\n",
    "                  energy, energy_A]'''\n",
    "\n",
    "def get_data(A):\n",
    "    data = np.load('../Fingerprint_Generation/{}_data.npy'.format(A))[()]\n",
    "    y = np.array([i[-2] for i in data])\n",
    "    X = np.vstack([np.hstack([i[1].reshape(-1), \n",
    "                              i[2].reshape(-1),\n",
    "                              i[3].reshape(-1), \n",
    "                              i[4].reshape(-1), \n",
    "                              i[5].reshape(-1),\n",
    "                              i[6].reshape(-1),\n",
    "                              i[7].reshape(-1),\n",
    "                              i[8].reshape(-1),\n",
    "                              i[9].reshape(-1),\n",
    "                              i[10].reshape(-1),\n",
    "                              i[11].reshape(-1)]) for i in data])\n",
    "    \n",
    "    return X, y"
   ]
  },
  {
   "cell_type": "code",
   "execution_count": 3,
   "metadata": {},
   "outputs": [
    {
     "name": "stdout",
     "output_type": "stream",
     "text": [
      "Working on adsorbates: CH\n",
      "    Working on random state: 10\n"
     ]
    },
    {
     "name": "stderr",
     "output_type": "stream",
     "text": [
      "/Applications/anaconda/lib/python3.6/site-packages/sklearn/utils/deprecation.py:58: DeprecationWarning: Class Imputer is deprecated; Imputer was deprecated in version 0.20 and will be removed in 0.22. Import impute.SimpleImputer from sklearn instead.\n",
      "  warnings.warn(msg, category=DeprecationWarning)\n"
     ]
    },
    {
     "name": "stdout",
     "output_type": "stream",
     "text": [
      "    Working on random state: 20\n",
      "    Working on random state: 42\n",
      "    Working on random state: 80\n",
      "    Working on random state: 150\n",
      "Working on adsorbates: CH2\n",
      "    Working on random state: 10\n"
     ]
    },
    {
     "name": "stderr",
     "output_type": "stream",
     "text": [
      "/Applications/anaconda/lib/python3.6/site-packages/sklearn/utils/deprecation.py:58: DeprecationWarning: Class Imputer is deprecated; Imputer was deprecated in version 0.20 and will be removed in 0.22. Import impute.SimpleImputer from sklearn instead.\n",
      "  warnings.warn(msg, category=DeprecationWarning)\n"
     ]
    },
    {
     "name": "stdout",
     "output_type": "stream",
     "text": [
      "    Working on random state: 20\n",
      "    Working on random state: 42\n"
     ]
    },
    {
     "name": "stderr",
     "output_type": "stream",
     "text": [
      "/Applications/anaconda/lib/python3.6/site-packages/sklearn/gaussian_process/gpr.py:480: ConvergenceWarning: fmin_l_bfgs_b terminated abnormally with the  state: {'grad': array([ 0.21846008,  0.51291016,  0.21846008, -0.21844439]), 'task': b'ABNORMAL_TERMINATION_IN_LNSRCH', 'funcalls': 80, 'nit': 12, 'warnflag': 2}\n",
      "  ConvergenceWarning)\n"
     ]
    },
    {
     "name": "stdout",
     "output_type": "stream",
     "text": [
      "    Working on random state: 80\n",
      "    Working on random state: 150\n",
      "Working on adsorbates: CH3\n",
      "    Working on random state: 10\n"
     ]
    },
    {
     "name": "stderr",
     "output_type": "stream",
     "text": [
      "/Applications/anaconda/lib/python3.6/site-packages/sklearn/utils/deprecation.py:58: DeprecationWarning: Class Imputer is deprecated; Imputer was deprecated in version 0.20 and will be removed in 0.22. Import impute.SimpleImputer from sklearn instead.\n",
      "  warnings.warn(msg, category=DeprecationWarning)\n"
     ]
    },
    {
     "name": "stdout",
     "output_type": "stream",
     "text": [
      "    Working on random state: 20\n"
     ]
    },
    {
     "name": "stderr",
     "output_type": "stream",
     "text": [
      "/Applications/anaconda/lib/python3.6/site-packages/sklearn/gaussian_process/gpr.py:480: ConvergenceWarning: fmin_l_bfgs_b terminated abnormally with the  state: {'grad': array([ 0.17791939,  0.63969232,  0.17791939, -0.27041496]), 'task': b'ABNORMAL_TERMINATION_IN_LNSRCH', 'funcalls': 59, 'nit': 9, 'warnflag': 2}\n",
      "  ConvergenceWarning)\n"
     ]
    },
    {
     "name": "stdout",
     "output_type": "stream",
     "text": [
      "    Working on random state: 42\n",
      "    Working on random state: 80\n",
      "    Working on random state: 150\n",
      "Working on adsorbates: OH\n",
      "    Working on random state: 10\n"
     ]
    },
    {
     "name": "stderr",
     "output_type": "stream",
     "text": [
      "/Applications/anaconda/lib/python3.6/site-packages/sklearn/utils/deprecation.py:58: DeprecationWarning: Class Imputer is deprecated; Imputer was deprecated in version 0.20 and will be removed in 0.22. Import impute.SimpleImputer from sklearn instead.\n",
      "  warnings.warn(msg, category=DeprecationWarning)\n"
     ]
    },
    {
     "name": "stdout",
     "output_type": "stream",
     "text": [
      "    Working on random state: 20\n",
      "    Working on random state: 42\n",
      "    Working on random state: 80\n",
      "    Working on random state: 150\n",
      "Working on adsorbates: NH\n",
      "    Working on random state: 10\n"
     ]
    },
    {
     "name": "stderr",
     "output_type": "stream",
     "text": [
      "/Applications/anaconda/lib/python3.6/site-packages/sklearn/utils/deprecation.py:58: DeprecationWarning: Class Imputer is deprecated; Imputer was deprecated in version 0.20 and will be removed in 0.22. Import impute.SimpleImputer from sklearn instead.\n",
      "  warnings.warn(msg, category=DeprecationWarning)\n"
     ]
    },
    {
     "name": "stdout",
     "output_type": "stream",
     "text": [
      "    Working on random state: 20\n",
      "    Working on random state: 42\n",
      "    Working on random state: 80\n",
      "    Working on random state: 150\n",
      "Working on adsorbates: SH\n",
      "    Working on random state: 10\n"
     ]
    },
    {
     "name": "stderr",
     "output_type": "stream",
     "text": [
      "/Applications/anaconda/lib/python3.6/site-packages/sklearn/utils/deprecation.py:58: DeprecationWarning: Class Imputer is deprecated; Imputer was deprecated in version 0.20 and will be removed in 0.22. Import impute.SimpleImputer from sklearn instead.\n",
      "  warnings.warn(msg, category=DeprecationWarning)\n"
     ]
    },
    {
     "name": "stdout",
     "output_type": "stream",
     "text": [
      "    Working on random state: 20\n",
      "    Working on random state: 42\n",
      "    Working on random state: 80\n",
      "    Working on random state: 150\n"
     ]
    },
    {
     "name": "stderr",
     "output_type": "stream",
     "text": [
      "/Applications/anaconda/lib/python3.6/site-packages/sklearn/gaussian_process/gpr.py:480: ConvergenceWarning: fmin_l_bfgs_b terminated abnormally with the  state: {'grad': array([ 0.49815655,  0.03413647,  0.49815655, -0.03803709]), 'task': b'ABNORMAL_TERMINATION_IN_LNSRCH', 'funcalls': 75, 'nit': 11, 'warnflag': 2}\n",
      "  ConvergenceWarning)\n",
      "/Applications/anaconda/lib/python3.6/site-packages/matplotlib/pyplot.py:524: RuntimeWarning: More than 20 figures have been opened. Figures created through the pyplot interface (`matplotlib.pyplot.figure`) are retained until explicitly closed and may consume too much memory. (To control this warning, see the rcParam `figure.max_open_warning`).\n",
      "  max_open_warning, RuntimeWarning)\n"
     ]
    }
   ],
   "source": [
    "adsorbates = ['CH', 'CH2', 'CH3', 'OH', 'NH', 'SH']\n",
    "\n",
    "for ads in adsorbates:\n",
    "    print('Working on adsorbates: {}'.format(ads))\n",
    "    X, y = get_data(ads)\n",
    "    data = preprocess_data(X, y)\n",
    "    data.clean_data()\n",
    "    X, y = data.get_data()\n",
    "\n",
    "    kernel_recipe = {'ConstantKernel' : [{'RBF' : [1.0,\n",
    "                                                   {'length_scale' : 1.0}]},\n",
    "                                      {'constant_value' : 1.0,\n",
    "                                       'constant_value_bounds' : (3e-7, 3e7)}],\n",
    "                     'WhiteKernel' : {'noise_level' : 0.1,\n",
    "                                      'noise_level_bounds' : (1e-5, 1e5)}}\n",
    "\n",
    "    r_state = [10, 20, 42, 80, 150]\n",
    "    #r_state = [42]\n",
    "    r_data = {rs : {} for rs in r_state}\n",
    "    for rs in r_state:\n",
    "        print('    Working on random state: {}'.format(rs))\n",
    "        X_train, X_test, y_train, y_test = train_test_split(X, y, \n",
    "                                                            train_size=0.80, \n",
    "                                                            random_state=rs)\n",
    "\n",
    "        MLGP = OMGP(X_train=X_train,\n",
    "                    X_test=X_test,\n",
    "                    y_train=y_train,\n",
    "                    y_test=y_test,\n",
    "                    kernel_recipe=kernel_recipe)\n",
    "\n",
    "        MLGP.run_GP()\n",
    "        r_data[rs] = MLGP.__dict__\n",
    "\n",
    "\n",
    "    if not os.path.exists('run_{}'.format(ads)):\n",
    "        os.mkdir('run_{}'.format(ads))\n",
    "\n",
    "    np.save('run_{0}/{0}_rsdata.npy'.format(ads), r_data)\n",
    "    #LC = MLGP.plot_learning_curve()\n",
    "    #LC.savefig('run_{0}/{0}_learning_curve.png'.format(ads))\n",
    "    PP = MLGP.parity_plot(data='train')\n",
    "    PP.savefig('run_{0}/{0}_parity_plot_train.png'.format(ads))\n",
    "    PP = MLGP.parity_plot(data='test')\n",
    "    PP.savefig('run_{0}/{0}_parity_plot_test.png'.format(ads))\n",
    "    PP = MLGP.parity_plot(data='train', err_bar=True)\n",
    "    PP.savefig('run_{0}/{0}_parity_plot_train_err_bar.png'.format(ads))\n",
    "    PP = MLGP.parity_plot(data='test', err_bar=True)\n",
    "    PP.savefig('run_{0}/{0}_parity_plot_test_err_bar.png'.format(ads))\n",
    "    #PP = MLGP.parity_plot_fancy(data='train')\n",
    "    #PP.savefig('run_{0}/{0}_parity_plot_train.png'.format(ads))\n",
    "    #PP = MLGP.parity_plot_fancy(data='test')\n",
    "    #PP.savefig('run_{0}/{0}_parity_plot_test.png'.format(ads))"
   ]
  },
  {
   "cell_type": "code",
   "execution_count": 4,
   "metadata": {},
   "outputs": [
    {
     "name": "stdout",
     "output_type": "stream",
     "text": [
      "\n",
      "Data for adsorbate: CH\n",
      "MAE_train: [0.09092076 0.08252839 0.07970769 0.14077675 0.08618118]\n",
      "MAE_train mean: 0.09602295218684773\n",
      "MAE_train std: 0.022689583653977923\n",
      "MAE_test: [0.15085668 0.15234394 0.17814903 0.19582582 0.16752521]\n",
      "MAE_test mean: 0.1689401370975302\n",
      "MAE_test std: 0.016805303617000455\n",
      "\n",
      "\n",
      "Data for adsorbate: CH2\n",
      "MAE_train: [0.20183635 0.19161006 0.18023837 0.19887533 0.19669184]\n",
      "MAE_train mean: 0.19385039123857767\n",
      "MAE_train std: 0.00758163270441049\n",
      "MAE_test: [0.23457951 0.26127413 0.30853878 0.25162345 0.26835227]\n",
      "MAE_test mean: 0.26487362804419723\n",
      "MAE_test std: 0.024596762104174934\n",
      "\n",
      "\n",
      "Data for adsorbate: CH3\n",
      "MAE_train: [0.1273461  0.12655671 0.12626353 0.12976871 0.12716148]\n",
      "MAE_train mean: 0.1274193057359264\n",
      "MAE_train std: 0.0012386633583168164\n",
      "MAE_test: [0.17981968 0.16602584 0.16971316 0.15850209 0.16896808]\n",
      "MAE_test mean: 0.16860576877520256\n",
      "MAE_test std: 0.006868038514320154\n",
      "\n",
      "\n",
      "Data for adsorbate: OH\n",
      "MAE_train: [0.09444187 0.0967569  0.10086945 0.10891122 0.1023837 ]\n",
      "MAE_train mean: 0.1006726283286439\n",
      "MAE_train std: 0.0049999214832541885\n",
      "MAE_test: [0.1486715  0.14466177 0.15760709 0.15336373 0.15859131]\n",
      "MAE_test mean: 0.1525790791320377\n",
      "MAE_test std: 0.005291433410215678\n",
      "\n",
      "\n",
      "Data for adsorbate: NH\n",
      "MAE_train: [0.11832124 0.13146855 0.12558834 0.11517826 0.11691396]\n",
      "MAE_train mean: 0.12149407000336207\n",
      "MAE_train std: 0.006118611572495317\n",
      "MAE_test: [0.17052335 0.18509248 0.17486179 0.18616664 0.20619795]\n",
      "MAE_test mean: 0.18456844003825765\n",
      "MAE_test std: 0.012346239383504954\n",
      "\n",
      "\n",
      "Data for adsorbate: SH\n",
      "MAE_train: [0.18823049 0.18534205 0.18803193 0.19269729 0.19183769]\n",
      "MAE_train mean: 0.18922789046564004\n",
      "MAE_train std: 0.002697134135068185\n",
      "MAE_test: [0.21946129 0.23109613 0.22566687 0.23027763 0.2210759 ]\n",
      "MAE_test mean: 0.2255155660019302\n",
      "MAE_test std: 0.0046948418086249855\n",
      "\n"
     ]
    }
   ],
   "source": [
    "for ads in adsorbates:\n",
    "    data = np.load('run_{0}/{0}_rsdata.npy'.format(ads))[()]\n",
    "    MAE_train = np.array([data[k]['MAE_train'] for k in data])\n",
    "    MAE_test = np.array([data[k]['MAE_test'] for k in data])\n",
    "    with open('run_{}/out.txt'.format(ads), 'w') as f:\n",
    "        print('\\nData for adsorbate: {}'.format(ads))\n",
    "        f.write('MAE_train: {}\\n'.format(MAE_train))\n",
    "        f.write('MAE_train mean: {}\\n'.format(MAE_train.mean()))\n",
    "        f.write('MAE_train std: {}\\n'.format(MAE_train.std()))\n",
    "        f.write('MAE_test: {}\\n'.format(MAE_test))\n",
    "        f.write('MAE_test mean: {}\\n'.format(MAE_test.mean()))\n",
    "        f.write('MAE_test std: {}\\n'.format(MAE_test.std()))\n",
    "        print('MAE_train: {}'.format(MAE_train))\n",
    "        print('MAE_train mean: {}'.format(MAE_train.mean()))\n",
    "        print('MAE_train std: {}'.format(MAE_train.std()))\n",
    "        print('MAE_test: {}'.format(MAE_test))\n",
    "        print('MAE_test mean: {}'.format(MAE_test.mean()))\n",
    "        print('MAE_test std: {}\\n'.format(MAE_test.std()))"
   ]
  },
  {
   "cell_type": "code",
   "execution_count": null,
   "metadata": {},
   "outputs": [],
   "source": []
  }
 ],
 "metadata": {
  "kernelspec": {
   "display_name": "Python 3",
   "language": "python",
   "name": "python3"
  },
  "language_info": {
   "codemirror_mode": {
    "name": "ipython",
    "version": 3
   },
   "file_extension": ".py",
   "mimetype": "text/x-python",
   "name": "python",
   "nbconvert_exporter": "python",
   "pygments_lexer": "ipython3",
   "version": "3.6.1"
  }
 },
 "nbformat": 4,
 "nbformat_minor": 2
}
