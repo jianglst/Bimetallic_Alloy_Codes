{
 "cells": [
  {
   "cell_type": "code",
   "execution_count": 14,
   "metadata": {},
   "outputs": [
    {
     "name": "stderr",
     "output_type": "stream",
     "text": [
      "/Applications/anaconda/lib/python3.6/site-packages/statsmodels/compat/pandas.py:56: FutureWarning: The pandas.core.datetools module is deprecated and will be removed in a future version. Please use the pandas.tseries module instead.\n",
      "  from pandas.core import datetools\n"
     ]
    }
   ],
   "source": [
    "import numpy as np\n",
    "import matplotlib.pyplot as plt\n",
    "from sklearn.linear_model import LinearRegression\n",
    "from sklearn.metrics import mean_absolute_error, r2_score\n",
    "from sklearn.model_selection import train_test_split\n",
    "import statsmodels.api as sm\n",
    "plt.rc('axes', axisbelow=True)"
   ]
  },
  {
   "cell_type": "code",
   "execution_count": 21,
   "metadata": {},
   "outputs": [
    {
     "name": "stderr",
     "output_type": "stream",
     "text": [
      "/Applications/anaconda/lib/python3.6/site-packages/sklearn/model_selection/_split.py:2179: FutureWarning: From version 0.21, test_size will always complement train_size unless both are specified.\n",
      "  FutureWarning)\n",
      "/Applications/anaconda/lib/python3.6/site-packages/sklearn/model_selection/_split.py:2179: FutureWarning: From version 0.21, test_size will always complement train_size unless both are specified.\n",
      "  FutureWarning)\n"
     ]
    },
    {
     "name": "stdout",
     "output_type": "stream",
     "text": [
      "0.41960696766909034\n",
      "[ 1.01711092 -0.31605703  0.25319641]\n",
      "0.19455245859748826\n",
      "0.3262518089586682\n",
      "[ 1.51330886  0.60355686 -1.17518502]\n",
      "0.0398828944081111\n"
     ]
    },
    {
     "name": "stderr",
     "output_type": "stream",
     "text": [
      "/Applications/anaconda/lib/python3.6/site-packages/sklearn/model_selection/_split.py:2179: FutureWarning: From version 0.21, test_size will always complement train_size unless both are specified.\n",
      "  FutureWarning)\n"
     ]
    },
    {
     "name": "stdout",
     "output_type": "stream",
     "text": [
      "0.4100492334718801\n",
      "[ 0.75810405 -0.45155253  0.64811003]\n",
      "0.08916366532200945\n",
      "0.14981036584519436\n",
      "[ 1.7615753   0.70461671 -1.5136452 ]\n",
      "0.02113149206853837\n",
      "0.29078773076159753\n",
      "[ 1.79298381  1.26896954 -2.0868088 ]\n",
      "0.009072116632993898\n"
     ]
    },
    {
     "name": "stderr",
     "output_type": "stream",
     "text": [
      "/Applications/anaconda/lib/python3.6/site-packages/sklearn/model_selection/_split.py:2179: FutureWarning: From version 0.21, test_size will always complement train_size unless both are specified.\n",
      "  FutureWarning)\n",
      "/Applications/anaconda/lib/python3.6/site-packages/sklearn/model_selection/_split.py:2179: FutureWarning: From version 0.21, test_size will always complement train_size unless both are specified.\n",
      "  FutureWarning)\n"
     ]
    }
   ],
   "source": [
    "adsorbates = ['C', 'O', 'N', 'H', 'S']\n",
    "colors = ['midnightblue', 'darkred', 'darkslategrey', \n",
    "         'darkolivegreen', 'rosybrown']\n",
    "\n",
    "for ads, col in zip(adsorbates, colors):\n",
    "    data = np.load('../Fingerprint_Generation/{}_data.npy'.format(ads))[()]\n",
    "    x_s_d0 = np.array([i[2] for i in data])\n",
    "    x_s_d1 = np.array([i[4] for i in data])\n",
    "    x_s_d2 = np.array([i[6] for i in data])\n",
    "    y = np.array([i[-1] for i in data]) \n",
    "    X = np.column_stack([x_s_d0, x_s_d1, x_s_d2])\n",
    "    X_train, X_test, y_train, y_test = train_test_split(X, y, train_size=0.8)\n",
    "    reg = LinearRegression(fit_intercept=True)\n",
    "    reg.fit(X_train, y_train)\n",
    "    y_pred = reg.predict(X_test)\n",
    "    MAE = mean_absolute_error(y_test, y_pred)\n",
    "    print(MAE)\n",
    "    print(reg.coef_)\n",
    "    print(reg.intercept_)\n",
    "    "
   ]
  },
  {
   "cell_type": "code",
   "execution_count": 16,
   "metadata": {},
   "outputs": [],
   "source": [
    "def reg_m(x, y):\n",
    "    ones = np.ones(len(x[0]))\n",
    "    X = sm.add_constant(np.column_stack((x[0], ones)))\n",
    "    for ele in x[1:]:\n",
    "        X = sm.add_constant(np.column_stack((ele, X)))\n",
    "    results = sm.OLS(y, X).fit()\n",
    "    return results"
   ]
  },
  {
   "cell_type": "code",
   "execution_count": 18,
   "metadata": {},
   "outputs": [
    {
     "name": "stdout",
     "output_type": "stream",
     "text": [
      "                            OLS Regression Results                            \n",
      "==============================================================================\n",
      "Dep. Variable:                      y   R-squared:                       0.866\n",
      "Model:                            OLS   Adj. R-squared:                  0.865\n",
      "Method:                 Least Squares   F-statistic:                     7971.\n",
      "Date:                Mon, 06 May 2019   Prob (F-statistic):               0.00\n",
      "Time:                        22:21:01   Log-Likelihood:                -3261.6\n",
      "No. Observations:                3719   AIC:                             6531.\n",
      "Df Residuals:                    3715   BIC:                             6556.\n",
      "Df Model:                           3                                         \n",
      "Covariance Type:            nonrobust                                         \n",
      "==============================================================================\n",
      "                 coef    std err          t      P>|t|      [0.025      0.975]\n",
      "------------------------------------------------------------------------------\n",
      "x1             0.5186      0.255      2.034      0.042       0.019       1.019\n",
      "x2            -0.4551      0.140     -3.261      0.001      -0.729      -0.182\n",
      "x3             0.8871      0.115      7.689      0.000       0.661       1.113\n",
      "const          0.1959      0.022      8.947      0.000       0.153       0.239\n",
      "==============================================================================\n",
      "Omnibus:                      327.337   Durbin-Watson:                   1.737\n",
      "Prob(Omnibus):                  0.000   Jarque-Bera (JB):             1584.113\n",
      "Skew:                           0.283   Prob(JB):                         0.00\n",
      "Kurtosis:                       6.147   Cond. No.                         175.\n",
      "==============================================================================\n",
      "\n",
      "Warnings:\n",
      "[1] Standard Errors assume that the covariance matrix of the errors is correctly specified.\n",
      "                            OLS Regression Results                            \n",
      "==============================================================================\n",
      "Dep. Variable:                      y   R-squared:                       0.930\n",
      "Model:                            OLS   Adj. R-squared:                  0.930\n",
      "Method:                 Least Squares   F-statistic:                 1.731e+04\n",
      "Date:                Mon, 06 May 2019   Prob (F-statistic):               0.00\n",
      "Time:                        22:21:01   Log-Likelihood:                -2571.2\n",
      "No. Observations:                3898   AIC:                             5150.\n",
      "Df Residuals:                    3894   BIC:                             5176.\n",
      "Df Model:                           3                                         \n",
      "Covariance Type:            nonrobust                                         \n",
      "==============================================================================\n",
      "                 coef    std err          t      P>|t|      [0.025      0.975]\n",
      "------------------------------------------------------------------------------\n",
      "x1            -1.2267      0.156     -7.840      0.000      -1.533      -0.920\n",
      "x2             0.6307      0.083      7.628      0.000       0.469       0.793\n",
      "x3             1.5369      0.073     21.050      0.000       1.394       1.680\n",
      "const          0.0370      0.008      4.563      0.000       0.021       0.053\n",
      "==============================================================================\n",
      "Omnibus:                      510.369   Durbin-Watson:                   1.706\n",
      "Prob(Omnibus):                  0.000   Jarque-Bera (JB):             6039.278\n",
      "Skew:                          -0.106   Prob(JB):                         0.00\n",
      "Kurtosis:                       9.094   Cond. No.                         77.7\n",
      "==============================================================================\n",
      "\n",
      "Warnings:\n",
      "[1] Standard Errors assume that the covariance matrix of the errors is correctly specified.\n",
      "                            OLS Regression Results                            \n",
      "==============================================================================\n",
      "Dep. Variable:                      y   R-squared:                       0.898\n",
      "Model:                            OLS   Adj. R-squared:                  0.898\n",
      "Method:                 Least Squares   F-statistic:                 1.123e+04\n",
      "Date:                Mon, 06 May 2019   Prob (F-statistic):               0.00\n",
      "Time:                        22:21:01   Log-Likelihood:                -3424.1\n",
      "No. Observations:                3841   AIC:                             6856.\n",
      "Df Residuals:                    3837   BIC:                             6881.\n",
      "Df Model:                           3                                         \n",
      "Covariance Type:            nonrobust                                         \n",
      "==============================================================================\n",
      "                 coef    std err          t      P>|t|      [0.025      0.975]\n",
      "------------------------------------------------------------------------------\n",
      "x1             0.3574      0.203      1.760      0.078      -0.041       0.756\n",
      "x2            -0.2814      0.109     -2.593      0.010      -0.494      -0.069\n",
      "x3             0.8783      0.094      9.363      0.000       0.694       1.062\n",
      "const          0.0934      0.010      9.573      0.000       0.074       0.112\n",
      "==============================================================================\n",
      "Omnibus:                      446.370   Durbin-Watson:                   1.761\n",
      "Prob(Omnibus):                  0.000   Jarque-Bera (JB):             4198.580\n",
      "Skew:                           0.128   Prob(JB):                         0.00\n",
      "Kurtosis:                       8.116   Cond. No.                         77.0\n",
      "==============================================================================\n",
      "\n",
      "Warnings:\n",
      "[1] Standard Errors assume that the covariance matrix of the errors is correctly specified.\n",
      "                            OLS Regression Results                            \n",
      "==============================================================================\n",
      "Dep. Variable:                      y   R-squared:                       0.864\n",
      "Model:                            OLS   Adj. R-squared:                  0.864\n",
      "Method:                 Least Squares   F-statistic:                     9944.\n",
      "Date:                Mon, 06 May 2019   Prob (F-statistic):               0.00\n",
      "Time:                        22:21:01   Log-Likelihood:                 312.50\n",
      "No. Observations:                4690   AIC:                            -617.0\n",
      "Df Residuals:                    4686   BIC:                            -591.2\n",
      "Df Model:                           3                                         \n",
      "Covariance Type:            nonrobust                                         \n",
      "==============================================================================\n",
      "                 coef    std err          t      P>|t|      [0.025      0.975]\n",
      "------------------------------------------------------------------------------\n",
      "x1            -1.3518      0.145     -9.316      0.000      -1.636      -1.067\n",
      "x2             0.6107      0.076      8.001      0.000       0.461       0.760\n",
      "x3             1.6949      0.069     24.409      0.000       1.559       1.831\n",
      "const          0.0193      0.003      5.606      0.000       0.013       0.026\n",
      "==============================================================================\n",
      "Omnibus:                     1344.568   Durbin-Watson:                   1.728\n",
      "Prob(Omnibus):                  0.000   Jarque-Bera (JB):            16335.130\n",
      "Skew:                           1.017   Prob(JB):                         0.00\n",
      "Kurtosis:                      11.913   Cond. No.                         58.9\n",
      "==============================================================================\n",
      "\n",
      "Warnings:\n",
      "[1] Standard Errors assume that the covariance matrix of the errors is correctly specified.\n",
      "                            OLS Regression Results                            \n",
      "==============================================================================\n",
      "Dep. Variable:                      y   R-squared:                       0.867\n",
      "Model:                            OLS   Adj. R-squared:                  0.867\n",
      "Method:                 Least Squares   F-statistic:                     8437.\n",
      "Date:                Mon, 06 May 2019   Prob (F-statistic):               0.00\n",
      "Time:                        22:21:02   Log-Likelihood:                -2164.6\n",
      "No. Observations:                3874   AIC:                             4337.\n",
      "Df Residuals:                    3870   BIC:                             4362.\n",
      "Df Model:                           3                                         \n",
      "Covariance Type:            nonrobust                                         \n",
      "==============================================================================\n",
      "                 coef    std err          t      P>|t|      [0.025      0.975]\n",
      "------------------------------------------------------------------------------\n",
      "x1            -1.9534      0.205     -9.529      0.000      -2.355      -1.552\n",
      "x2             1.1965      0.110     10.850      0.000       0.980       1.413\n",
      "x3             1.7330      0.094     18.425      0.000       1.549       1.917\n",
      "const          0.0135      0.014      0.964      0.335      -0.014       0.041\n",
      "==============================================================================\n",
      "Omnibus:                      439.632   Durbin-Watson:                   1.738\n",
      "Prob(Omnibus):                  0.000   Jarque-Bera (JB):             2433.597\n",
      "Skew:                           0.396   Prob(JB):                         0.00\n",
      "Kurtosis:                       6.801   Cond. No.                         135.\n",
      "==============================================================================\n",
      "\n",
      "Warnings:\n",
      "[1] Standard Errors assume that the covariance matrix of the errors is correctly specified.\n"
     ]
    }
   ],
   "source": [
    "for ads, col in zip(adsorbates, colors):\n",
    "    data = np.load('../Fingerprint_Generation/{}_data.npy'.format(ads))[()]\n",
    "    x_s_d0 = np.array([i[2] for i in data])\n",
    "    x_s_d1 = np.array([i[4] for i in data])\n",
    "    x_s_d2 = np.array([i[6] for i in data])\n",
    "    y = np.array([i[-1] for i in data]) \n",
    "    X = np.column_stack([x_s_d0, x_s_d1, x_s_d2])\n",
    "    print(reg_m(X.T, y).summary())"
   ]
  },
  {
   "cell_type": "code",
   "execution_count": null,
   "metadata": {},
   "outputs": [],
   "source": []
  }
 ],
 "metadata": {
  "kernelspec": {
   "display_name": "Python 3",
   "language": "python",
   "name": "python3"
  },
  "language_info": {
   "codemirror_mode": {
    "name": "ipython",
    "version": 3
   },
   "file_extension": ".py",
   "mimetype": "text/x-python",
   "name": "python",
   "nbconvert_exporter": "python",
   "pygments_lexer": "ipython3",
   "version": "3.6.1"
  }
 },
 "nbformat": 4,
 "nbformat_minor": 2
}
